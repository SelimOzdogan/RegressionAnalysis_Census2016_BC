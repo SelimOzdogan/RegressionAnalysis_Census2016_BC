{
 "cells": [
  {
   "cell_type": "markdown",
   "metadata": {},
   "source": [
    "- Name : Selim Ozdogan\n",
    "- Student Id : 300340479"
   ]
  },
  {
   "cell_type": "code",
   "execution_count": 1,
   "metadata": {},
   "outputs": [],
   "source": [
    "#importing libraries\n",
    "import pandas as pd\n",
    "import numpy as np\n",
    "import seaborn as sns\n",
    "from sklearn.model_selection import train_test_split\n",
    "from sklearn.metrics import mean_squared_error\n",
    "import matplotlib.pyplot as plt\n",
    "from sklearn.linear_model import LogisticRegression\n",
    "from sklearn.preprocessing import MinMaxScaler, StandardScaler, RobustScaler\n",
    "from sklearn.pipeline import Pipeline\n",
    "from sklearn.metrics import silhouette_score, calinski_harabasz_score, davies_bouldin_score\n",
    "from sklearn.linear_model import Ridge, Lasso \n",
    "from sklearn.model_selection import cross_val_score\n",
    "import warnings\n",
    "warnings.filterwarnings(\"ignore\")\n",
    "%matplotlib inline \n"
   ]
  },
  {
   "cell_type": "markdown",
   "metadata": {},
   "source": [
    "### Html Styles"
   ]
  },
  {
   "cell_type": "code",
   "execution_count": 2,
   "metadata": {},
   "outputs": [
    {
     "data": {
      "text/html": [
       "<style>\n",
       "table {margin-left: 0 !important;}\n",
       "h1, h2, h3, h4 {margin: 0 !important; text-decoration: underline !important}\n",
       "</style>\n"
      ],
      "text/plain": [
       "<IPython.core.display.HTML object>"
      ]
     },
     "metadata": {},
     "output_type": "display_data"
    }
   ],
   "source": [
    "%%html\n",
    "<style>\n",
    "table {margin-left: 0 !important;}\n",
    "h1, h2, h3, h4 {margin: 0 !important; text-decoration: underline !important}\n",
    "</style>"
   ]
  },
  {
   "cell_type": "markdown",
   "metadata": {},
   "source": [
    "### Retreving data"
   ]
  },
  {
   "cell_type": "code",
   "execution_count": 3,
   "metadata": {},
   "outputs": [],
   "source": [
    "df = pd.read_csv(r'.\\Dataset\\cleanedCensusData.csv')"
   ]
  },
  {
   "cell_type": "markdown",
   "metadata": {},
   "source": [
    "### Feature Engineering\n",
    "- The data has enough features and all features are numeric\n",
    "- I don't need to extend or to transform the features\n",
    "- However, I need to apply features Selection\n",
    "- I will use GridSearch for tuning\n",
    "\n",
    "#### I will use scalling, feature elemination and reggesstion models\n",
    "- Scalling\n",
    "    - StandardScaler\n",
    "    - RobustScaler\n",
    "- Feature Elemination\n",
    "    - PCA\n",
    "    - Lasso (It is a regressor but, it also has own features selection)\n",
    "- Reggestion\n",
    "    - LinearRegression\n",
    "    - DecisionTreeRegressor\n",
    "    - GradientBoostingRegressor\n",
    "    - RandomForestRegressor\n",
    "    - AdaBoostRegressor\n",
    "    - XGBRegressor\n",
    "    - Rigge\n",
    "    - Lasso"
   ]
  },
  {
   "cell_type": "code",
   "execution_count": 4,
   "metadata": {
    "scrolled": true
   },
   "outputs": [
    {
     "name": "stdout",
     "output_type": "stream",
     "text": [
      "<class 'pandas.core.frame.DataFrame'>\n",
      "RangeIndex: 7195 entries, 0 to 7194\n",
      "Columns: 2244 entries, 1 to GovernmentTransfers\n",
      "dtypes: float64(2244)\n",
      "memory usage: 123.2 MB\n"
     ]
    }
   ],
   "source": [
    "df.info()"
   ]
  },
  {
   "cell_type": "markdown",
   "metadata": {},
   "source": [
    "# Model"
   ]
  },
  {
   "cell_type": "markdown",
   "metadata": {},
   "source": [
    "#### Store Model"
   ]
  },
  {
   "cell_type": "code",
   "execution_count": 5,
   "metadata": {},
   "outputs": [],
   "source": [
    "models=[]\n",
    "names=[]"
   ]
  },
  {
   "cell_type": "markdown",
   "metadata": {},
   "source": [
    "#### Linear Regression"
   ]
  },
  {
   "cell_type": "code",
   "execution_count": 6,
   "metadata": {},
   "outputs": [],
   "source": [
    "from sklearn.linear_model import LinearRegression\n",
    "lrmodel = LinearRegression()\n",
    "models.append(lrmodel)\n",
    "names.append(lrmodel.__class__.__name__)"
   ]
  },
  {
   "cell_type": "markdown",
   "metadata": {},
   "source": [
    "#### Decision Tree Regressor"
   ]
  },
  {
   "cell_type": "code",
   "execution_count": 7,
   "metadata": {},
   "outputs": [],
   "source": [
    "from sklearn.tree import DecisionTreeRegressor\n",
    "trmodel = DecisionTreeRegressor(max_depth=3)\n",
    "models.append(trmodel)\n",
    "names.append(trmodel.__class__.__name__)"
   ]
  },
  {
   "cell_type": "markdown",
   "metadata": {},
   "source": [
    "#### Gradient Boosting Regressor"
   ]
  },
  {
   "cell_type": "code",
   "execution_count": 8,
   "metadata": {},
   "outputs": [],
   "source": [
    "from sklearn.ensemble import GradientBoostingRegressor\n",
    "grmodel = GradientBoostingRegressor()\n",
    "models.append(grmodel)\n",
    "names.append(grmodel.__class__.__name__)"
   ]
  },
  {
   "cell_type": "markdown",
   "metadata": {},
   "source": [
    "#### Random Forest Regressor"
   ]
  },
  {
   "cell_type": "code",
   "execution_count": 9,
   "metadata": {},
   "outputs": [],
   "source": [
    "from sklearn.ensemble import RandomForestRegressor\n",
    "frmodel = RandomForestRegressor(n_estimators=100)\n",
    "models.append(frmodel)\n",
    "names.append(frmodel.__class__.__name__)"
   ]
  },
  {
   "cell_type": "markdown",
   "metadata": {},
   "source": [
    "#### Ada Boost Regressor"
   ]
  },
  {
   "cell_type": "code",
   "execution_count": 10,
   "metadata": {},
   "outputs": [],
   "source": [
    "from sklearn.ensemble import AdaBoostRegressor\n",
    "armodel = AdaBoostRegressor()\n",
    "models.append(armodel)\n",
    "names.append(armodel.__class__.__name__)"
   ]
  },
  {
   "cell_type": "markdown",
   "metadata": {},
   "source": [
    "#### XGB Regressor"
   ]
  },
  {
   "cell_type": "code",
   "execution_count": 11,
   "metadata": {},
   "outputs": [],
   "source": [
    "from xgboost import XGBRegressor\n",
    "xrmodel = XGBRegressor(n_estimators=100)\n",
    "models.append(xrmodel)\n",
    "names.append(xrmodel.__class__.__name__)"
   ]
  },
  {
   "cell_type": "markdown",
   "metadata": {},
   "source": [
    "#### Lasso Regressor"
   ]
  },
  {
   "cell_type": "code",
   "execution_count": 12,
   "metadata": {},
   "outputs": [],
   "source": [
    "from sklearn.linear_model import Lasso\n",
    "lasso = Lasso(alpha = 1, normalize = False, max_iter=1000)\n",
    "models.append(lasso)\n",
    "names.append(lasso.__class__.__name__)"
   ]
  },
  {
   "cell_type": "markdown",
   "metadata": {},
   "source": [
    "#### Ridge Regressor"
   ]
  },
  {
   "cell_type": "code",
   "execution_count": 13,
   "metadata": {},
   "outputs": [],
   "source": [
    "from sklearn.linear_model import Ridge \n",
    "ridge = Ridge(alpha = 1, normalize = False, max_iter=1000)\n",
    "models.append(ridge)\n",
    "names.append(ridge.__class__.__name__)"
   ]
  },
  {
   "cell_type": "markdown",
   "metadata": {},
   "source": [
    "### Split Data"
   ]
  },
  {
   "cell_type": "code",
   "execution_count": 14,
   "metadata": {},
   "outputs": [],
   "source": [
    "X = df.drop('GovernmentTransfers', axis=1)\n",
    "y = df.GovernmentTransfers\n",
    "\n",
    "X_train, X_test, y_train, y_test = train_test_split(X, y, test_size=0.25, random_state=42)"
   ]
  },
  {
   "cell_type": "markdown",
   "metadata": {},
   "source": [
    "### PipeLine For Regressors\n",
    "- In this part\n",
    "    - I will use 3 Scalling\n",
    "        - RobustScaler\n",
    "        - StandardScaler\n",
    "        - MinMaxScaler\n",
    "    - and 8 Regressors\n",
    "        - LinearRegression\n",
    "        - DecisionTreeRegressor\n",
    "        - GradientBoostingRegressor\n",
    "        - RandomForestRegressor\n",
    "        - AdaBoostRegressor\n",
    "        - XGBRegressor\n",
    "        - Lasso\n",
    "        - Ridge\t"
   ]
  },
  {
   "cell_type": "code",
   "execution_count": 15,
   "metadata": {},
   "outputs": [
    {
     "data": {
      "text/html": [
       "<div>\n",
       "<style scoped>\n",
       "    .dataframe tbody tr th:only-of-type {\n",
       "        vertical-align: middle;\n",
       "    }\n",
       "\n",
       "    .dataframe tbody tr th {\n",
       "        vertical-align: top;\n",
       "    }\n",
       "\n",
       "    .dataframe thead th {\n",
       "        text-align: right;\n",
       "    }\n",
       "</style>\n",
       "<table border=\"1\" class=\"dataframe\">\n",
       "  <thead>\n",
       "    <tr style=\"text-align: right;\">\n",
       "      <th></th>\n",
       "      <th>Scaler</th>\n",
       "      <th>Regressor</th>\n",
       "      <th>R^2 score</th>\n",
       "      <th>RMSE</th>\n",
       "    </tr>\n",
       "  </thead>\n",
       "  <tbody>\n",
       "    <tr>\n",
       "      <th>0</th>\n",
       "      <td>RobustScaler</td>\n",
       "      <td>LinearRegression</td>\n",
       "      <td>0.961</td>\n",
       "      <td>293920.175</td>\n",
       "    </tr>\n",
       "    <tr>\n",
       "      <th>1</th>\n",
       "      <td>RobustScaler</td>\n",
       "      <td>DecisionTreeRegressor</td>\n",
       "      <td>0.743</td>\n",
       "      <td>750272.276</td>\n",
       "    </tr>\n",
       "    <tr>\n",
       "      <th>2</th>\n",
       "      <td>RobustScaler</td>\n",
       "      <td>GradientBoostingRegressor</td>\n",
       "      <td>0.950</td>\n",
       "      <td>331782.744</td>\n",
       "    </tr>\n",
       "    <tr>\n",
       "      <th>3</th>\n",
       "      <td>RobustScaler</td>\n",
       "      <td>RandomForestRegressor</td>\n",
       "      <td>0.944</td>\n",
       "      <td>349999.939</td>\n",
       "    </tr>\n",
       "    <tr>\n",
       "      <th>4</th>\n",
       "      <td>RobustScaler</td>\n",
       "      <td>AdaBoostRegressor</td>\n",
       "      <td>0.883</td>\n",
       "      <td>506424.547</td>\n",
       "    </tr>\n",
       "    <tr>\n",
       "      <th>5</th>\n",
       "      <td>RobustScaler</td>\n",
       "      <td>XGBRegressor</td>\n",
       "      <td>0.940</td>\n",
       "      <td>363439.972</td>\n",
       "    </tr>\n",
       "    <tr>\n",
       "      <th>6</th>\n",
       "      <td>RobustScaler</td>\n",
       "      <td>Lasso</td>\n",
       "      <td>0.954</td>\n",
       "      <td>316371.552</td>\n",
       "    </tr>\n",
       "    <tr>\n",
       "      <th>7</th>\n",
       "      <td>RobustScaler</td>\n",
       "      <td>Ridge</td>\n",
       "      <td>0.964</td>\n",
       "      <td>282751.242</td>\n",
       "    </tr>\n",
       "    <tr>\n",
       "      <th>8</th>\n",
       "      <td>StandardScaler</td>\n",
       "      <td>LinearRegression</td>\n",
       "      <td>0.960</td>\n",
       "      <td>294325.339</td>\n",
       "    </tr>\n",
       "    <tr>\n",
       "      <th>9</th>\n",
       "      <td>StandardScaler</td>\n",
       "      <td>DecisionTreeRegressor</td>\n",
       "      <td>0.743</td>\n",
       "      <td>750272.276</td>\n",
       "    </tr>\n",
       "    <tr>\n",
       "      <th>10</th>\n",
       "      <td>StandardScaler</td>\n",
       "      <td>GradientBoostingRegressor</td>\n",
       "      <td>0.950</td>\n",
       "      <td>331871.941</td>\n",
       "    </tr>\n",
       "    <tr>\n",
       "      <th>11</th>\n",
       "      <td>StandardScaler</td>\n",
       "      <td>RandomForestRegressor</td>\n",
       "      <td>0.943</td>\n",
       "      <td>354589.134</td>\n",
       "    </tr>\n",
       "    <tr>\n",
       "      <th>12</th>\n",
       "      <td>StandardScaler</td>\n",
       "      <td>AdaBoostRegressor</td>\n",
       "      <td>0.882</td>\n",
       "      <td>507664.675</td>\n",
       "    </tr>\n",
       "    <tr>\n",
       "      <th>13</th>\n",
       "      <td>StandardScaler</td>\n",
       "      <td>XGBRegressor</td>\n",
       "      <td>0.940</td>\n",
       "      <td>363249.026</td>\n",
       "    </tr>\n",
       "    <tr>\n",
       "      <th>14</th>\n",
       "      <td>StandardScaler</td>\n",
       "      <td>Lasso</td>\n",
       "      <td>0.952</td>\n",
       "      <td>324185.603</td>\n",
       "    </tr>\n",
       "    <tr>\n",
       "      <th>15</th>\n",
       "      <td>StandardScaler</td>\n",
       "      <td>Ridge</td>\n",
       "      <td>0.963</td>\n",
       "      <td>285225.131</td>\n",
       "    </tr>\n",
       "    <tr>\n",
       "      <th>16</th>\n",
       "      <td>MinMaxScaler</td>\n",
       "      <td>LinearRegression</td>\n",
       "      <td>0.960</td>\n",
       "      <td>294325.339</td>\n",
       "    </tr>\n",
       "    <tr>\n",
       "      <th>17</th>\n",
       "      <td>MinMaxScaler</td>\n",
       "      <td>DecisionTreeRegressor</td>\n",
       "      <td>0.743</td>\n",
       "      <td>750272.276</td>\n",
       "    </tr>\n",
       "    <tr>\n",
       "      <th>18</th>\n",
       "      <td>MinMaxScaler</td>\n",
       "      <td>GradientBoostingRegressor</td>\n",
       "      <td>0.950</td>\n",
       "      <td>332229.531</td>\n",
       "    </tr>\n",
       "    <tr>\n",
       "      <th>19</th>\n",
       "      <td>MinMaxScaler</td>\n",
       "      <td>RandomForestRegressor</td>\n",
       "      <td>0.942</td>\n",
       "      <td>356476.941</td>\n",
       "    </tr>\n",
       "    <tr>\n",
       "      <th>20</th>\n",
       "      <td>MinMaxScaler</td>\n",
       "      <td>AdaBoostRegressor</td>\n",
       "      <td>0.880</td>\n",
       "      <td>512740.517</td>\n",
       "    </tr>\n",
       "    <tr>\n",
       "      <th>21</th>\n",
       "      <td>MinMaxScaler</td>\n",
       "      <td>XGBRegressor</td>\n",
       "      <td>0.940</td>\n",
       "      <td>363363.399</td>\n",
       "    </tr>\n",
       "    <tr>\n",
       "      <th>22</th>\n",
       "      <td>MinMaxScaler</td>\n",
       "      <td>Lasso</td>\n",
       "      <td>0.961</td>\n",
       "      <td>291662.910</td>\n",
       "    </tr>\n",
       "    <tr>\n",
       "      <th>23</th>\n",
       "      <td>MinMaxScaler</td>\n",
       "      <td>Ridge</td>\n",
       "      <td>0.962</td>\n",
       "      <td>288970.890</td>\n",
       "    </tr>\n",
       "  </tbody>\n",
       "</table>\n",
       "</div>"
      ],
      "text/plain": [
       "            Scaler                  Regressor  R^2 score       RMSE\n",
       "0     RobustScaler           LinearRegression      0.961 293920.175\n",
       "1     RobustScaler      DecisionTreeRegressor      0.743 750272.276\n",
       "2     RobustScaler  GradientBoostingRegressor      0.950 331782.744\n",
       "3     RobustScaler      RandomForestRegressor      0.944 349999.939\n",
       "4     RobustScaler          AdaBoostRegressor      0.883 506424.547\n",
       "5     RobustScaler               XGBRegressor      0.940 363439.972\n",
       "6     RobustScaler                      Lasso      0.954 316371.552\n",
       "7     RobustScaler                      Ridge      0.964 282751.242\n",
       "8   StandardScaler           LinearRegression      0.960 294325.339\n",
       "9   StandardScaler      DecisionTreeRegressor      0.743 750272.276\n",
       "10  StandardScaler  GradientBoostingRegressor      0.950 331871.941\n",
       "11  StandardScaler      RandomForestRegressor      0.943 354589.134\n",
       "12  StandardScaler          AdaBoostRegressor      0.882 507664.675\n",
       "13  StandardScaler               XGBRegressor      0.940 363249.026\n",
       "14  StandardScaler                      Lasso      0.952 324185.603\n",
       "15  StandardScaler                      Ridge      0.963 285225.131\n",
       "16    MinMaxScaler           LinearRegression      0.960 294325.339\n",
       "17    MinMaxScaler      DecisionTreeRegressor      0.743 750272.276\n",
       "18    MinMaxScaler  GradientBoostingRegressor      0.950 332229.531\n",
       "19    MinMaxScaler      RandomForestRegressor      0.942 356476.941\n",
       "20    MinMaxScaler          AdaBoostRegressor      0.880 512740.517\n",
       "21    MinMaxScaler               XGBRegressor      0.940 363363.399\n",
       "22    MinMaxScaler                      Lasso      0.961 291662.910\n",
       "23    MinMaxScaler                      Ridge      0.962 288970.890"
      ]
     },
     "execution_count": 15,
     "metadata": {},
     "output_type": "execute_result"
    }
   ],
   "source": [
    "from sklearn.pipeline import Pipeline\n",
    "\n",
    "modelnames=[]\n",
    "scalernames=[]\n",
    "r2=[]\n",
    "rmse=[]\n",
    "\n",
    "for scaler in [RobustScaler(), StandardScaler(), MinMaxScaler()]:\n",
    "    for model in models: \n",
    "        pipe = Pipeline([('scaler',scaler),('regressor', model)])\n",
    "        pipe.fit(X_train, y_train)\n",
    "        pred = pipe.predict(X_test)\n",
    "        modelnames.append(model.__class__.__name__)\n",
    "        scalernames.append(scaler.__class__.__name__)\n",
    "        r2.append(pipe.score(X_test, y_test))\n",
    "        rmse.append(mean_squared_error(y_test, pred)**0.5)\n",
    "\n",
    "\n",
    "result_df = pd.DataFrame(zip(scalernames, modelnames , r2, rmse), columns=['Scaler', 'Regressor', 'R^2 score', 'RMSE'])\n",
    "pd.set_option('display.float_format', lambda x: '%.3f' % x)\n",
    "result_df"
   ]
  },
  {
   "cell_type": "markdown",
   "metadata": {},
   "source": [
    "**According to table**\n",
    "- RobustScaler Scaller and Ridge Regression give the best score.\n",
    "- However, StandardScaler is recomended by https://scikit-learn.org/\n",
    "- R^2 = 0.965\n",
    "- RMSE = 282793.402"
   ]
  },
  {
   "cell_type": "markdown",
   "metadata": {},
   "source": [
    "### Clustering"
   ]
  },
  {
   "cell_type": "markdown",
   "metadata": {},
   "source": [
    "I would like to check also clustering with Ridge"
   ]
  },
  {
   "cell_type": "code",
   "execution_count": 16,
   "metadata": {},
   "outputs": [
    {
     "data": {
      "image/png": "[encoded data removed]",
      "text/plain": [
       "<Figure size 432x288 with 1 Axes>"
      ]
     },
     "metadata": {
      "needs_background": "light"
     },
     "output_type": "display_data"
    },
    {
     "data": {
      "text/plain": [
       "3"
      ]
     },
     "execution_count": 16,
     "metadata": {},
     "output_type": "execute_result"
    }
   ],
   "source": [
    "from sklearn.cluster import KMeans\n",
    "\n",
    "kmax = 10\n",
    "wcss = []\n",
    "for n in range(1, kmax+1):\n",
    "    kmeans = KMeans(n_clusters=n, random_state=0)\n",
    "    kmeans.fit(X = X)\n",
    "    wcss.append(kmeans.inertia_)\n",
    "    \n",
    "plt.plot(range(1,kmax+1), wcss, '-go')\n",
    "plt.xlabel('k')\n",
    "plt.ylabel('Sum of square distance')\n",
    "plt.title('Finding the optimal k using elbow method')\n",
    "plt.show()\n",
    "\n",
    "from kneed import KneeLocator\n",
    "kl = KneeLocator(range(1,kmax+1), wcss, curve='convex', direction='decreasing')\n",
    "kl.elbow"
   ]
  },
  {
   "cell_type": "markdown",
   "metadata": {},
   "source": [
    "**cluster should be 3 according elbow method**"
   ]
  },
  {
   "cell_type": "code",
   "execution_count": 17,
   "metadata": {},
   "outputs": [
    {
     "data": {
      "image/png": "[encoded data removed]",
      "text/plain": [
       "<Figure size 1080x504 with 1 Axes>"
      ]
     },
     "metadata": {
      "needs_background": "light"
     },
     "output_type": "display_data"
    }
   ],
   "source": [
    "import scipy.cluster.hierarchy as shc\n",
    "import matplotlib.pyplot as plt\n",
    "\n",
    "def show_dendogram(data):\n",
    "    plt.figure(figsize=(15, 7))\n",
    "    plt.title(\"Census Dendogram\")\n",
    "    dend = shc.dendrogram(shc.linkage(data, method='ward'))\n",
    "show_dendogram(X)"
   ]
  },
  {
   "cell_type": "markdown",
   "metadata": {},
   "source": [
    "**cluster should be 3 as showing grafic**"
   ]
  },
  {
   "cell_type": "markdown",
   "metadata": {},
   "source": [
    "### Pipeline for Clustering\n",
    "- In this part\n",
    "    - I will use K-Means and Birch Clustering\n",
    "    - I will use StandardScaler scalling as a preprocessing\n",
    "    - I will use Ridge\n",
    "    - also I will check Ridge's normalize feature"
   ]
  },
  {
   "cell_type": "code",
   "execution_count": 18,
   "metadata": {
    "scrolled": false
   },
   "outputs": [
    {
     "name": "stdout",
     "output_type": "stream",
     "text": [
      "So Far Best score : 0.37\n",
      "So Far Best score : 0.37\n",
      "So Far Best score : 0.93\n",
      "So Far Best score : 0.93\n",
      "Best score: 0.93\n",
      "Best parameters: {'norm': 'Stand', 'cluster': 'Birch ', 'solver': 'svd', 'alpha': '0.36', 'max_iter': 1000}\n"
     ]
    }
   ],
   "source": [
    "import warnings\n",
    "warnings.filterwarnings(\"ignore\")\n",
    "\n",
    "\n",
    "from sklearn.model_selection import GridSearchCV\n",
    "from sklearn.metrics import classification_report\n",
    "from sklearn.decomposition import PCA \n",
    "from sklearn.preprocessing import RobustScaler\n",
    "from sklearn.pipeline import Pipeline\n",
    "from sklearn.cluster import Birch\n",
    "\n",
    "\n",
    "max_iter = 1000       \n",
    "best_score = 0\n",
    "alpha = 0.36\n",
    "\n",
    "#this is for Ridge's normalize method\n",
    "for normalize in [True, False]:\n",
    "    clusters = {1: KMeans(n_clusters=3, init=\"k-means++\", max_iter=max_iter),  2: Birch(n_clusters= 3)}\n",
    "    for cl in [1,2]:\n",
    "        for solver in ['auto', 'svd', 'cholesky', 'lsqr', 'sparse_cg', 'sag', 'saga']:\n",
    "            regression = Pipeline(\n",
    "            [\n",
    "                ('cluster', clusters[cl]),\n",
    "                ('Ridge',Ridge(max_iter= max_iter,\n",
    "                             normalize = not normalize,\n",
    "                             alpha = alpha,\n",
    "                             solver =solver,\n",
    "                             random_state = 42 ))\n",
    "            ])\n",
    "            if normalize:\n",
    "                preprocessing = Pipeline(\n",
    "                [\n",
    "                    (\"scaler\", StandardScaler()),\n",
    "                    (\"pca\", PCA(n_components= 0.9))\n",
    "\n",
    "                ]\n",
    "                )\n",
    "                pipe = Pipeline(\n",
    "                [\n",
    "                    (\"preprocessing\", preprocessing),(\"regression\", regression)\n",
    "                ]\n",
    "                )\n",
    "            else:\n",
    "                preprocessing = Pipeline(\n",
    "                [\n",
    "                    (\"pca\", PCA(n_components= 0.9))\n",
    "                ]\n",
    "                )\n",
    "                pipe = Pipeline(\n",
    "                [\n",
    "                    (\"preprocessing\", preprocessing),(\"regression\", regression)\n",
    "                ]\n",
    "                )\n",
    "            \n",
    "            pipe.fit(X_train, y_train)\n",
    "            score = pipe.score(X_test, y_test)\n",
    "\n",
    "            parameters = {'norm': ('Ridge' if not normalize else 'Stand'),\n",
    "                          'cluster': ('No Clu' if cl == 0 else 'K-Mean' if cl == 1 else 'Birch '),\n",
    "                          'solver': solver,\n",
    "                          'alpha':\"{:.2f}\".format(alpha),\n",
    "                          'max_iter':max_iter}\n",
    "            if score > best_score:\n",
    "                best_score = score\n",
    "                best_parameters = parameters\n",
    "                print(\"So Far Best score : {:.2f}\".format(best_score))        \n",
    "\n",
    "print(\"Best score: {:.2f}\".format(best_score))        \n",
    "print(\"Best parameters: {}\".format(best_parameters))"
   ]
  },
  {
   "cell_type": "markdown",
   "metadata": {},
   "source": []
  },
  {
   "cell_type": "markdown",
   "metadata": {},
   "source": [
    "Best score: 0.94\n",
    "Best parameters: {'norm': 'Stand', 'cluster': 'Birch ', 'solver': 'auto', 'alpha': '0.36', 'max_iter': 1000}"
   ]
  },
  {
   "cell_type": "markdown",
   "metadata": {},
   "source": [
    "### Tunning\n",
    "- I will try max_iter 10K to 100K with 10 different max_iter\n",
    "- And for alpha 0.001 to 1 by 1K with 50 different alpha\n",
    "- Cluster will be 3\n",
    "- n_componenent will be 0.9"
   ]
  },
  {
   "cell_type": "code",
   "execution_count": 19,
   "metadata": {},
   "outputs": [
    {
     "name": "stdout",
     "output_type": "stream",
     "text": [
      "So Far Best score : 0.93\n",
      "So Far Best score : 0.93\n",
      "So Far Best score : 0.93\n",
      "So Far Best score : 0.93\n",
      "So Far Best score : 0.93\n",
      "So Far Best score : 0.93\n",
      "So Far Best score : 0.93\n",
      "So Far Best score : 0.93\n",
      "So Far Best score : 0.93\n",
      "So Far Best score : 0.93\n",
      "So Far Best score : 0.93\n",
      "So Far Best score : 0.93\n",
      "So Far Best score : 0.93\n",
      "So Far Best score : 0.93\n",
      "So Far Best score : 0.93\n",
      "So Far Best score : 0.93\n",
      "So Far Best score : 0.93\n",
      "So Far Best score : 0.93\n",
      "So Far Best score : 0.93\n",
      "So Far Best score : 0.93\n",
      "So Far Best score : 0.93\n",
      "Best score: 0.93\n",
      "Best parameters: {'alpha': '184.21', 'max_iter': 1000.0}\n"
     ]
    }
   ],
   "source": [
    "from sklearn.neural_network import MLPRegressor\n",
    "\n",
    "best_score = 0\n",
    "n_clusters = 3\n",
    "n_components = 0.9 \n",
    "\n",
    "for max_iter in np.linspace(1000,100000,10):\n",
    "    for alpha in 10**np.linspace(-3, 3, 50):\n",
    "        preprocessing = Pipeline(\n",
    "        [\n",
    "            (\"scaler\", StandardScaler()),\n",
    "            (\"pca\", PCA(n_components=n_components))\n",
    "        ]\n",
    "        )\n",
    "        regression = Pipeline(\n",
    "        [\n",
    "            ('cluster', Birch(n_clusters= n_clusters)),\n",
    "            ('Ridge',Ridge(max_iter= max_iter,\n",
    "                         normalize = False,\n",
    "                         alpha = alpha,\n",
    "                         random_state = 42 )),\n",
    "        ])\n",
    "        pipe = Pipeline(\n",
    "        [\n",
    "            (\"preprocessing\", preprocessing),(\"regression\", regression)\n",
    "        ]\n",
    "        )\n",
    "\n",
    "        pipe.fit(X_train, y_train)\n",
    "        score = pipe.score(X_test, y_test)\n",
    "\n",
    "        parameters = {'alpha':\"{:.2f}\".format(alpha),\n",
    "                        'max_iter':max_iter}\n",
    "        if score > best_score:\n",
    "            best_score = score\n",
    "            best_parameters = parameters\n",
    "            print(\"So Far Best score : {:.2f}\".format(best_score))        \n",
    "            \n",
    "print(\"Best score: {:.2f}\".format(best_score))        \n",
    "print(\"Best parameters: {}\".format(best_parameters))"
   ]
  },
  {
   "cell_type": "markdown",
   "metadata": {},
   "source": [
    "Best score: 0.94\n",
    "Best parameters: {'alpha': '59.64', 'max_iter': 1000.0}"
   ]
  },
  {
   "cell_type": "markdown",
   "metadata": {},
   "source": [
    "### Evaluation"
   ]
  },
  {
   "cell_type": "code",
   "execution_count": 20,
   "metadata": {},
   "outputs": [
    {
     "name": "stdout",
     "output_type": "stream",
     "text": [
      "R2: 0.93\n",
      "RMSE: 378735.45\n"
     ]
    }
   ],
   "source": [
    "n_clusters = 3\n",
    "n_components = 0.9\n",
    "alpha = 59.64\n",
    "max_iter = 100000\n",
    "\n",
    "preprocessing = Pipeline(\n",
    "[\n",
    "    (\"scaler\", StandardScaler()),\n",
    "    (\"pca\", PCA(n_components=n_components))\n",
    "]\n",
    ")\n",
    "regression = Pipeline(\n",
    "[\n",
    "    ('cluster', Birch(n_clusters= n_clusters)),\n",
    "    ('Ridge',Ridge(max_iter= max_iter,\n",
    "                 normalize = False,\n",
    "                 alpha = alpha,\n",
    "                 random_state = 42 )),\n",
    "])\n",
    "pipe = Pipeline(\n",
    "[\n",
    "    (\"preprocessing\", preprocessing),(\"regression\", regression)\n",
    "]\n",
    ")\n",
    "\n",
    "pipe.fit(X_train, y_train)\n",
    "score = pipe.score(X_test, y_test)\n",
    "pred = pipe.predict(X_test)\n",
    "\n",
    "rmse = mean_squared_error(y_test, pred)**0.5    \n",
    "\n",
    "print(\"R2: {:.2f}\".format(score))    \n",
    "print(\"RMSE: {:.2f}\".format(rmse))    "
   ]
  },
  {
   "cell_type": "code",
   "execution_count": 21,
   "metadata": {
    "scrolled": true
   },
   "outputs": [
    {
     "data": {
      "image/png": "[encoded data removed]",
      "text/plain": [
       "<Figure size 432x288 with 1 Axes>"
      ]
     },
     "metadata": {
      "needs_background": "light"
     },
     "output_type": "display_data"
    }
   ],
   "source": [
    "x_ax = range(len(pred))\n",
    "plt.scatter(x_ax, y_test, s=5, color=\"blue\", label=\"original\")\n",
    "plt.plot(x_ax, pred, lw=0.8, color=\"red\", label=\"predicted\")\n",
    "plt.legend()\n",
    "plt.show()"
   ]
  },
  {
   "cell_type": "code",
   "execution_count": 22,
   "metadata": {
    "scrolled": true
   },
   "outputs": [
    {
     "data": {
      "image/png": "[encoded data removed]",
      "text/plain": [
       "<Figure size 432x288 with 1 Axes>"
      ]
     },
     "metadata": {
      "needs_background": "light"
     },
     "output_type": "display_data"
    }
   ],
   "source": [
    "# plot the prediction vs actual\n",
    "actual = y_test\n",
    "plt.scatter(pred, actual, color='b', alpha=.7)\n",
    "plt.ylabel('Predicted')\n",
    "plt.xlabel('Actual')\n",
    "plt.title('Ridge Regression model')\n",
    "plt.show()"
   ]
  },
  {
   "cell_type": "markdown",
   "metadata": {},
   "source": [
    "### Observations\n",
    "- According to graphs and R2, the model is accurate on the test data\n",
    "- Even if the data has some outliners, the model work properly\n",
    "- I will try the model with out-of-sample data"
   ]
  },
  {
   "cell_type": "markdown",
   "metadata": {},
   "source": [
    "### Out of Sample Test\n",
    "I will create out of sample data with mean of the columns"
   ]
  },
  {
   "cell_type": "code",
   "execution_count": 23,
   "metadata": {},
   "outputs": [],
   "source": [
    "df_OFS = pd.DataFrame(np.array([df.mean(axis=0)]), columns=df.columns)\n",
    "X_OFS = df_OFS.drop('GovernmentTransfers', axis=1)\n",
    "y_OFS = df_OFS.GovernmentTransfers"
   ]
  },
  {
   "cell_type": "code",
   "execution_count": 24,
   "metadata": {},
   "outputs": [
    {
     "name": "stdout",
     "output_type": "stream",
     "text": [
      "Pred: 2701220.41\n",
      "Actual: 2708873.18\n"
     ]
    }
   ],
   "source": [
    "pred_OFS = pipe.predict(X_OFS)\n",
    "\n",
    "print(\"Pred: {:.2f}\".format(pred_OFS[0]))    \n",
    "print(\"Actual: {:.2f}\".format(y_OFS[0]))  \n",
    "    "
   ]
  },
  {
   "cell_type": "markdown",
   "metadata": {},
   "source": [
    "### Observation\n",
    "- Predition and Actual value pretty similar for the Out of Sample data\n",
    "- **Pred:** CAD 2699568.55\n",
    "- **Actual:** CAD 2708873.18"
   ]
  }
 ],
 "metadata": {
  "kernelspec": {
   "display_name": "Python 3",
   "language": "python",
   "name": "python3"
  },
  "language_info": {
   "codemirror_mode": {
    "name": "ipython",
    "version": 3
   },
   "file_extension": ".py",
   "mimetype": "text/x-python",
   "name": "python",
   "nbconvert_exporter": "python",
   "pygments_lexer": "ipython3",
   "version": "3.8.5"
  }
 },
 "nbformat": 4,
 "nbformat_minor": 4
}
